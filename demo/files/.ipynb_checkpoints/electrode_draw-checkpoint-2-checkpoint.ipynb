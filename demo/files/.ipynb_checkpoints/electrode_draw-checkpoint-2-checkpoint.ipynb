{
 "cells": [
  {
   "cell_type": "code",
   "execution_count": 1,
   "id": "4357e361-ced6-4751-bb4a-6119dca8cfee",
   "metadata": {},
   "outputs": [
    {
     "name": "stdout",
     "output_type": "stream",
     "text": [
      "Populating the interactive namespace from numpy and matplotlib\n"
     ]
    },
    {
     "ename": "ModuleNotFoundError",
     "evalue": "No module named 'nibabel'",
     "output_type": "error",
     "traceback": [
      "\u001b[0;31m---------------------------------------------------------------------------\u001b[0m",
      "\u001b[0;31mModuleNotFoundError\u001b[0m                       Traceback (most recent call last)",
      "\u001b[0;32m<ipython-input-1-f58288774eeb>\u001b[0m in \u001b[0;36m<module>\u001b[0;34m\u001b[0m\n\u001b[1;32m      2\u001b[0m \u001b[0;31m# coding: utf-8\u001b[0m\u001b[0;34m\u001b[0m\u001b[0;34m\u001b[0m\u001b[0;34m\u001b[0m\u001b[0m\n\u001b[1;32m      3\u001b[0m \u001b[0mget_ipython\u001b[0m\u001b[0;34m(\u001b[0m\u001b[0;34m)\u001b[0m\u001b[0;34m.\u001b[0m\u001b[0mrun_line_magic\u001b[0m\u001b[0;34m(\u001b[0m\u001b[0;34m'pylab'\u001b[0m\u001b[0;34m,\u001b[0m \u001b[0;34m'inline'\u001b[0m\u001b[0;34m)\u001b[0m\u001b[0;34m\u001b[0m\u001b[0;34m\u001b[0m\u001b[0m\n\u001b[0;32m----> 4\u001b[0;31m \u001b[0;32mimport\u001b[0m \u001b[0mnibabel\u001b[0m \u001b[0;32mas\u001b[0m \u001b[0mnib\u001b[0m\u001b[0;34m\u001b[0m\u001b[0;34m\u001b[0m\u001b[0m\n\u001b[0m\u001b[1;32m      5\u001b[0m \u001b[0;32mimport\u001b[0m \u001b[0mjson\u001b[0m\u001b[0;34m\u001b[0m\u001b[0;34m\u001b[0m\u001b[0m\n\u001b[1;32m      6\u001b[0m \u001b[0;34m\u001b[0m\u001b[0m\n",
      "\u001b[0;31mModuleNotFoundError\u001b[0m: No module named 'nibabel'"
     ]
    }
   ],
   "source": [
    "#!/usr/bin/env python\n",
    "# coding: utf-8\n",
    "get_ipython().run_line_magic('pylab', 'inline')\n",
    "import nibabel as nib\n",
    "import json\n",
    "\n",
    "with open('./sample.json') as f:\n",
    "    electrode_data = json.load(f)\n",
    "\n",
    "number_of_electrodes = len(electrode_data['elecID'])"
   ]
  },
  {
   "cell_type": "code",
   "execution_count": null,
   "id": "4cf62290-e377-4bb3-899e-01bb525d28bc",
   "metadata": {},
   "outputs": [],
   "source": [
    "class Electrode:\n",
    "    def __init__(self, xCoor, yCoor, zCoor, seizType):\n",
    "        self.xCoor = xCoor\n",
    "        self.yCoor = yCoor\n",
    "        self.zCoor = zCoor\n",
    "        self.seizType = seizType\n",
    "        \n",
    "\n",
    "electrode_objects = []\n",
    "for index in range(number_of_electrodes):\n",
    "    xCoor = electrode_data['coorX'][index]\n",
    "    yCoor = electrode_data['coorY'][index]\n",
    "    zCoor = electrode_data['coorZ'][index]\n",
    "    seizType = electrode_data['seizType'][index]\n",
    "    electrode_objects.append(Electrode(xCoor, yCoor, zCoor, seizType))"
   ]
  },
  {
   "cell_type": "code",
   "execution_count": null,
   "id": "3695c0a6-aee8-48db-b386-d24e8df751c7",
   "metadata": {},
   "outputs": [],
   "source": [
    "def map_interval(input_val, input_range, output_range):\n",
    "    (input_start, input_end) = input_range\n",
    "    (output_start, output_end) = output_range\n",
    "    \n",
    "    return output_start + ((output_end - output_start) / (input_end - input_start)) * (input_val - input_start)"
   ]
  },
  {
   "cell_type": "code",
   "execution_count": 2,
   "id": "142de936-c84e-43d4-bd10-e3cc609f737b",
   "metadata": {},
   "outputs": [
    {
     "ename": "NameError",
     "evalue": "name 'nib' is not defined",
     "output_type": "error",
     "traceback": [
      "\u001b[0;31m---------------------------------------------------------------------------\u001b[0m",
      "\u001b[0;31mNameError\u001b[0m                                 Traceback (most recent call last)",
      "\u001b[0;32m<ipython-input-2-cb26984a8c52>\u001b[0m in \u001b[0;36m<module>\u001b[0;34m\u001b[0m\n\u001b[1;32m      1\u001b[0m \u001b[0mvol\u001b[0m \u001b[0;34m=\u001b[0m \u001b[0;34m'./T1.nii'\u001b[0m\u001b[0;34m\u001b[0m\u001b[0;34m\u001b[0m\u001b[0m\n\u001b[1;32m      2\u001b[0m \u001b[0;34m\u001b[0m\u001b[0m\n\u001b[0;32m----> 3\u001b[0;31m \u001b[0mvolume\u001b[0m \u001b[0;34m=\u001b[0m \u001b[0mnib\u001b[0m\u001b[0;34m.\u001b[0m\u001b[0mload\u001b[0m\u001b[0;34m(\u001b[0m\u001b[0mvol\u001b[0m\u001b[0;34m)\u001b[0m\u001b[0;34m\u001b[0m\u001b[0;34m\u001b[0m\u001b[0m\n\u001b[0m\u001b[1;32m      4\u001b[0m \u001b[0mlabels\u001b[0m \u001b[0;34m=\u001b[0m \u001b[0mnp\u001b[0m\u001b[0;34m.\u001b[0m\u001b[0mzeros\u001b[0m\u001b[0;34m(\u001b[0m\u001b[0;34m(\u001b[0m\u001b[0mvolume\u001b[0m\u001b[0;34m.\u001b[0m\u001b[0mshape\u001b[0m\u001b[0;34m[\u001b[0m\u001b[0;36m0\u001b[0m\u001b[0;34m]\u001b[0m\u001b[0;34m,\u001b[0m \u001b[0mvolume\u001b[0m\u001b[0;34m.\u001b[0m\u001b[0mshape\u001b[0m\u001b[0;34m[\u001b[0m\u001b[0;36m1\u001b[0m\u001b[0;34m]\u001b[0m\u001b[0;34m,\u001b[0m \u001b[0mvolume\u001b[0m\u001b[0;34m.\u001b[0m\u001b[0mshape\u001b[0m\u001b[0;34m[\u001b[0m\u001b[0;36m2\u001b[0m\u001b[0;34m]\u001b[0m\u001b[0;34m)\u001b[0m\u001b[0;34m,\u001b[0m \u001b[0mdtype\u001b[0m\u001b[0;34m=\u001b[0m\u001b[0mnp\u001b[0m\u001b[0;34m.\u001b[0m\u001b[0muint8\u001b[0m\u001b[0;34m)\u001b[0m\u001b[0;34m\u001b[0m\u001b[0;34m\u001b[0m\u001b[0m\n\u001b[1;32m      5\u001b[0m \u001b[0;34m\u001b[0m\u001b[0m\n",
      "\u001b[0;31mNameError\u001b[0m: name 'nib' is not defined"
     ]
    }
   ],
   "source": [
    "vol = './T1.nii'\n",
    "\n",
    "volume = nib.load(vol)\n",
    "labels = np.zeros((volume.shape[0], volume.shape[1], volume.shape[2]), dtype=np.uint8)\n",
    "\n",
    "\n",
    "r = 3 # maybe switch to scikit image draw\n",
    "\n",
    "for electrode in electrode_objects:\n",
    "    first_interval = (-127.5, 127.5)\n",
    "    second_interval = (0, 255)\n",
    "    mapped_xCoor = int(round(map_interval(electrode.xCoor, first_interval, second_interval)))\n",
    "    mapped_yCoor = int(round(map_interval(electrode.yCoor, first_interval, second_interval)))\n",
    "    mapped_zCoor = int(round(map_interval(electrode.zCoor, first_interval, second_interval)))\n",
    "    \n",
    "    if electrode.seizType == 'Onset':\n",
    "        labels[mapped_xCoor:mapped_xCoor+r, mapped_yCoor:mapped_yCoor+r, mapped_zCoor:mapped_zCoor+r] = 5\n",
    "        \n",
    "    elif electrode.seizType == 'Early Spread':\n",
    "        labels[mapped_xCoor:mapped_xCoor+r, mapped_yCoor:mapped_yCoor+r, mapped_zCoor:mapped_zCoor+r] = 9\n",
    "\n",
    "    elif electrode.seizType == 'Late Spread':\n",
    "        labels[mapped_xCoor:mapped_xCoor+r, mapped_yCoor:mapped_yCoor+r, mapped_zCoor:mapped_zCoor+r] = 7\n",
    "        \n",
    "    else:\n",
    "        labels[mapped_xCoor:mapped_xCoor+r, mapped_yCoor:mapped_yCoor+r, mapped_zCoor:mapped_zCoor+r] = 11\n",
    "\n",
    "# store the labelmap\n",
    "labelmap = nib.Nifti1Image(labels, volume.affine)\n",
    "nib.save(labelmap, 'labels.nii')\n",
    "\n",
    "volume.affine"
   ]
  },
  {
   "cell_type": "code",
   "execution_count": null,
   "id": "b4fbe1a4",
   "metadata": {},
   "outputs": [],
   "source": []
  }
 ],
 "metadata": {
  "kernelspec": {
   "display_name": "Python 3",
   "language": "python",
   "name": "python3"
  },
  "language_info": {
   "codemirror_mode": {
    "name": "ipython",
    "version": 3
   },
   "file_extension": ".py",
   "mimetype": "text/x-python",
   "name": "python",
   "nbconvert_exporter": "python",
   "pygments_lexer": "ipython3",
   "version": "3.8.8"
  }
 },
 "nbformat": 4,
 "nbformat_minor": 5
}
